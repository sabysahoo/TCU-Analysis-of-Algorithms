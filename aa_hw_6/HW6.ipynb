{
 "cells": [
  {
   "cell_type": "code",
   "execution_count": 12,
   "metadata": {},
   "outputs": [
    {
     "name": "stdout",
     "output_type": "stream",
     "text": [
      "Symbol\tWeight\tHuffman Code\n",
      "e\t0.22\t01\n",
      "c\t0.11\t001\n",
      "i\t0.16\t111\n",
      "r\t0.12\t100\n",
      "s\t0.15\t110\n",
      "t\t0.1\t000\n",
      "x\t0.14\t101\n",
      "Input Text :-\n",
      "['rise', 'exit', 'text', 'exercise']\n",
      "Output Text :-\n",
      "['10011111001', '01101111000', '00001101000', '011010110000111111001']\n"
     ]
    }
   ],
   "source": [
    "from heapq import heappush, heappop, heapify\n",
    "from collections import defaultdict\n",
    "\n",
    "def printHuffCode(parmlist):\n",
    "    for element in parmlist:\n",
    "        action = element\n",
    "        strilen = 0\n",
    "        strilen = len(action)\n",
    "        # print(strilen)\n",
    "        i = 0\n",
    "        strnew = \"\"\n",
    "        while i < strilen:\n",
    "            s = action[i] \n",
    "            v = dict.get(s)\n",
    "            strnew = strnew + v\n",
    "            i += 1\n",
    "        outputstr.append(strnew)\n",
    "        \n",
    "def encode(hufflist):\n",
    "    heap = [[wt, [sym, \"\"]] for sym, wt in symb2freq.items()]\n",
    "    heapify(heap)\n",
    "    while len(heap) > 1:\n",
    "        lo = heappop(heap)\n",
    "        hi = heappop(heap)\n",
    "        for pair in lo[1:]:\n",
    "            pair[1] = '0' + pair[1]\n",
    "        for pair in hi[1:]:\n",
    "            pair[1] = '1' + pair[1]\n",
    "        heappush(heap, [lo[0] + hi[0]] + lo[1:] + hi[1:])\n",
    "    return sorted(heappop(heap)[1:], key=lambda p: (len(p[-1]), p))\n",
    " \n",
    "hufflist = defaultdict(int)\n",
    "hufflist['c'] = 0.11\n",
    "hufflist['e'] = 0.22\n",
    "hufflist['i'] = 0.16\n",
    "hufflist['r'] = 0.12\n",
    "hufflist['s'] = 0.15\n",
    "hufflist['t'] = 0.10\n",
    "hufflist['x'] = 0.14\n",
    "\n",
    "huff = encode(hufflist)\n",
    "print(\"Symbol\\tWeight\\tHuffman Code\")\n",
    "dict = {'Sym' : 'Code'}\n",
    "for p in huff:\n",
    "    print(\"%s\\t%s\\t%s\" % (p[0], symb2freq[p[0]], p[1]))\n",
    "    dict[p[0]] = p[1]\n",
    "#print(huff)\n",
    "#print(dict)\n",
    "inputstr = [\"rise\",\"exit\",\"text\",\"exercise\"]\n",
    "print(\"Input Text :-\")\n",
    "outputstr = []\n",
    "\n",
    "printHuffCode(inputstr)\n",
    "print(inputstr)\n",
    "print(\"Output Text :-\")\n",
    "print(outputstr)"
   ]
  },
  {
   "cell_type": "code",
   "execution_count": null,
   "metadata": {},
   "outputs": [],
   "source": []
  }
 ],
 "metadata": {
  "kernelspec": {
   "display_name": "Python 3",
   "language": "python",
   "name": "python3"
  },
  "language_info": {
   "codemirror_mode": {
    "name": "ipython",
    "version": 3
   },
   "file_extension": ".py",
   "mimetype": "text/x-python",
   "name": "python",
   "nbconvert_exporter": "python",
   "pygments_lexer": "ipython3",
   "version": "3.6.5"
  }
 },
 "nbformat": 4,
 "nbformat_minor": 2
}
